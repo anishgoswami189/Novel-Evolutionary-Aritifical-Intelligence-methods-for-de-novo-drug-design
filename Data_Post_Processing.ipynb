{
  "nbformat": 4,
  "nbformat_minor": 0,
  "metadata": {
    "colab": {
      "name": "Data_Post_Processing.ipynb",
      "private_outputs": true,
      "provenance": []
    },
    "kernelspec": {
      "name": "python3",
      "display_name": "Python 3"
    }
  },
  "cells": [
    {
      "cell_type": "code",
      "metadata": {
        "id": "JrpsWPHj9l9l"
      },
      "source": [
        "import rdkit\n",
        "import pickle\n",
        "from rdkit.Chem import Descriptors"
      ],
      "execution_count": null,
      "outputs": []
    },
    {
      "cell_type": "code",
      "metadata": {
        "id": "0MhazvwB9ds6"
      },
      "source": [
        "#loading data\n",
        "with open('generated_molecules', 'rb') as fp:\n",
        "  generated_molecules = pickle.load(fp)\n",
        "\n",
        "with open('ranked_molecules', 'rb') as fp:\n",
        "  ranked_molecules = pickle.load(fp)\n",
        "\n",
        "with open('bindingscores', 'rb') as fp:\n",
        "  bindingscores = pickle.load(fp)"
      ],
      "execution_count": null,
      "outputs": []
    },
    {
      "cell_type": "code",
      "metadata": {
        "id": "hfJ1lMhKv2u0"
      },
      "source": [
        "  #functions for calculating chemical properties of a molecule in SMILE string\n",
        "  def get_mol_mass(self, mol):\n",
        "    return Descriptors.MolWt(mol)\n",
        "\n",
        "  def get_hydrogen_bond_donors(self, mol):\n",
        "    return Descriptors.NumHDonors(mol)\n",
        "\n",
        "  def get_hydrogen_bond_acceptors(self, mol):\n",
        "    return Descriptors.NumHAcceptors(mol)\n",
        "\n",
        "  def get_log_p(self, mol):\n",
        "    return Descriptors.MolLogP(mol)"
      ],
      "execution_count": null,
      "outputs": []
    },
    {
      "cell_type": "code",
      "metadata": {
        "id": "XZW2UeC98MfX"
      },
      "source": [
        "count = 0\n",
        "for smi in generated_molecules:\n",
        "  \n",
        "  #checking if molecule is chemically valid\n",
        "  if Chem.MolFromSmiles(smi) != None:\n",
        "      count += 1\n",
        "\n",
        "#calculating number of unique molecules\n",
        "unique = len(set(generated_molecules))\n",
        "\n",
        "print(\"Percentage valid molecules: \" + str(count/len(generated_molecules)))\n",
        "print(\"Percentage unique molecules \" + str(unique/len(generated_molecuels)))\n"
      ],
      "execution_count": null,
      "outputs": []
    },
    {
      "cell_type": "code",
      "metadata": {
        "id": "JcaPvYl-6MLE"
      },
      "source": [
        "count = 0\n",
        "\n",
        "for smi in ranked_molecules:\n",
        "  #converting SMILE string to mol object\n",
        "  mol = Chem.MolFromSmiles(smi)\n",
        "  \n",
        "  #calculating if molecule is within lipinski's rule of 5\n",
        "  if get_mol_mass(mol) <= 500 and get_hydrogen_bond_donors(mol) <= 5 and get_hydrogen_bond_acceptors(mol) <= 10 and  get_log_p(mol) <= 5:\n",
        "    count += 1\n",
        "\n",
        "print(\"Number of drug-like molecules: \" + str(count/len(generated_molecules)))"
      ],
      "execution_count": null,
      "outputs": []
    },
    {
      "cell_type": "code",
      "metadata": {
        "id": "bPWzwfoQ7cbZ"
      },
      "source": [
        "count = 0\n",
        "\n",
        "for score in bindingscores:\n",
        "  \n",
        "  #checking if binding scores are within 1 Kd threshold\n",
        "  if(score <  1):\n",
        "    count += 1\n",
        "\n",
        "#printing number of molecules predicted to be active\n",
        "print(\"Number of molecules predicted to be active: \" + str(count))"
      ],
      "execution_count": null,
      "outputs": []
    }
  ]
}